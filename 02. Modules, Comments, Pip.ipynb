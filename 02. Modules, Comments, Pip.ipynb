{
 "cells": [
  {
   "cell_type": "markdown",
   "id": "666ea8b2",
   "metadata": {},
   "source": [
    "# Modules"
   ]
  },
  {
   "cell_type": "markdown",
   "id": "3d4d7d1d",
   "metadata": {},
   "source": [
    "A module is a file containning code written by somebody else, which can be imported and used in our program.\n",
    "\n",
    "Types of modules:\n",
    "    \n",
    "1.Built in modules (pre-installed in python)\n",
    "\n",
    "2.External modules (need to install using pip)"
   ]
  },
  {
   "cell_type": "markdown",
   "id": "d4bb65f4",
   "metadata": {},
   "source": [
    "# Comments"
   ]
  },
  {
   "cell_type": "markdown",
   "id": "f1272d40",
   "metadata": {},
   "source": [
    "Comments are used to write something which the programmer does not want to execute, to explain Python code, to make the code more readable.\n",
    "\n",
    "Types of comments:\n",
    "\n",
    "1. Single line comments (Written using \"#\")\n",
    "\n",
    "2. Multi-line comments (Written using '''Comment''')"
   ]
  },
  {
   "cell_type": "code",
   "execution_count": 4,
   "id": "cf29f6a3",
   "metadata": {},
   "outputs": [
    {
     "name": "stdout",
     "output_type": "stream",
     "text": [
      "Hello world!\n"
     ]
    }
   ],
   "source": [
    "#This is a single line comment\n",
    "\n",
    "print(\"Hello world!\")"
   ]
  },
  {
   "cell_type": "code",
   "execution_count": 1,
   "id": "f29ed311",
   "metadata": {},
   "outputs": [
    {
     "name": "stdout",
     "output_type": "stream",
     "text": [
      "Hello World!\n"
     ]
    }
   ],
   "source": [
    "print(\"Hello World!\") #This is a single line comment"
   ]
  },
  {
   "cell_type": "code",
   "execution_count": 6,
   "id": "eb41b0a6",
   "metadata": {},
   "outputs": [
    {
     "name": "stdout",
     "output_type": "stream",
     "text": [
      "Hello world!\n"
     ]
    }
   ],
   "source": [
    "'''\n",
    "This\n",
    "is\n",
    "a\n",
    "multi-line\n",
    "comment\n",
    "'''\n",
    "print(\"Hello world!\")"
   ]
  },
  {
   "cell_type": "markdown",
   "id": "9c4f6045",
   "metadata": {},
   "source": [
    "# Pip"
   ]
  },
  {
   "cell_type": "markdown",
   "id": "a8fabd66",
   "metadata": {},
   "source": [
    "Pip is the package manager for python, by which we can install a module on our system. "
   ]
  },
  {
   "cell_type": "markdown",
   "id": "7f10fafc",
   "metadata": {},
   "source": [
    "# Practice Set"
   ]
  },
  {
   "cell_type": "markdown",
   "id": "7f83eae6",
   "metadata": {},
   "source": [
    "1. write a program to print \"Twinkle Twinkle Little Star Poem\" in python."
   ]
  },
  {
   "cell_type": "code",
   "execution_count": null,
   "id": "f0182517",
   "metadata": {},
   "outputs": [],
   "source": []
  }
 ],
 "metadata": {
  "kernelspec": {
   "display_name": "Python 3",
   "language": "python",
   "name": "python3"
  },
  "language_info": {
   "codemirror_mode": {
    "name": "ipython",
    "version": 3
   },
   "file_extension": ".py",
   "mimetype": "text/x-python",
   "name": "python",
   "nbconvert_exporter": "python",
   "pygments_lexer": "ipython3",
   "version": "3.8.8"
  }
 },
 "nbformat": 4,
 "nbformat_minor": 5
}
