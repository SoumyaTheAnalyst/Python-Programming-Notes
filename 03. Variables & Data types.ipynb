{
 "cells": [
  {
   "cell_type": "markdown",
   "id": "8620d07c",
   "metadata": {},
   "source": [
    "# Variables"
   ]
  },
  {
   "cell_type": "markdown",
   "id": "9c4573a5",
   "metadata": {},
   "source": [
    "A variable is the name given to a memory location in a program.\n",
    "\n",
    "Variables are containers for storing data values.\n",
    "\n",
    "Python has no command for declaring a variable.\n",
    "\n",
    "A variable is created the moment you first assign a value to it.\n",
    "\n",
    "Variables do not need to be declared with any particular type, and can even change type after they have been set."
   ]
  },
  {
   "cell_type": "code",
   "execution_count": 1,
   "id": "a7a287d9",
   "metadata": {
    "scrolled": true
   },
   "outputs": [
    {
     "name": "stdout",
     "output_type": "stream",
     "text": [
      "5\n",
      "John\n"
     ]
    }
   ],
   "source": [
    "x = 5\n",
    "y = \"John\"\n",
    "print(x)\n",
    "print(y)"
   ]
  },
  {
   "cell_type": "markdown",
   "id": "cfeef310",
   "metadata": {},
   "source": [
    "# Get the type"
   ]
  },
  {
   "cell_type": "code",
   "execution_count": 2,
   "id": "9aa2537a",
   "metadata": {},
   "outputs": [],
   "source": [
    "a=5\n",
    "b=\"Soumya\"\n",
    "c=5.5\n",
    "d=5>4\n",
    "e=2+4j"
   ]
  },
  {
   "cell_type": "code",
   "execution_count": 3,
   "id": "0a2d2042",
   "metadata": {},
   "outputs": [
    {
     "name": "stdout",
     "output_type": "stream",
     "text": [
      "<class 'int'>\n",
      "<class 'str'>\n",
      "<class 'float'>\n",
      "<class 'bool'>\n",
      "<class 'complex'>\n"
     ]
    }
   ],
   "source": [
    "print(type(a))\n",
    "print(type(b))\n",
    "print(type(c))\n",
    "print(type(d))\n",
    "print(type(e))"
   ]
  },
  {
   "cell_type": "markdown",
   "id": "7d156ed3",
   "metadata": {},
   "source": [
    "# Type Casting"
   ]
  },
  {
   "cell_type": "markdown",
   "id": "977310bd",
   "metadata": {},
   "source": [
    "If you want to specify the data type of a variable, this can be done with casting."
   ]
  },
  {
   "cell_type": "code",
   "execution_count": 2,
   "id": "21d952a5",
   "metadata": {},
   "outputs": [],
   "source": [
    "x = str(3)    # x will be '3'\n",
    "y = int(3)    # y will be 3\n",
    "z = float(3)  # z will be 3.0"
   ]
  },
  {
   "cell_type": "code",
   "execution_count": 3,
   "id": "38415492",
   "metadata": {},
   "outputs": [
    {
     "name": "stdout",
     "output_type": "stream",
     "text": [
      "3\n",
      "3\n",
      "3.0\n"
     ]
    }
   ],
   "source": [
    "print(x)\n",
    "print(y)\n",
    "print(z)"
   ]
  },
  {
   "cell_type": "code",
   "execution_count": 5,
   "id": "15309dbb",
   "metadata": {},
   "outputs": [
    {
     "data": {
      "text/plain": [
       "float"
      ]
     },
     "execution_count": 5,
     "metadata": {},
     "output_type": "execute_result"
    }
   ],
   "source": [
    "type(x)\n",
    "type(y)\n",
    "type(z)"
   ]
  },
  {
   "cell_type": "markdown",
   "id": "f5f9f12c",
   "metadata": {},
   "source": [
    "# Single Or Double Quote"
   ]
  },
  {
   "cell_type": "code",
   "execution_count": 6,
   "id": "28fd2ca4",
   "metadata": {},
   "outputs": [],
   "source": [
    "x=\"soumya\"\n",
    "#Is the same as\n",
    "x='soumya'"
   ]
  },
  {
   "cell_type": "markdown",
   "id": "1b43d7c8",
   "metadata": {},
   "source": [
    "# Case Sensitive"
   ]
  },
  {
   "cell_type": "code",
   "execution_count": 8,
   "id": "a7bee4e8",
   "metadata": {},
   "outputs": [],
   "source": [
    "#This will create two variables\n",
    "\n",
    "A=10\n",
    "a=\"Soumya\"\n",
    "#\"A\" will not overwrite \"a\""
   ]
  },
  {
   "cell_type": "code",
   "execution_count": 9,
   "id": "5dcc6778",
   "metadata": {},
   "outputs": [
    {
     "name": "stdout",
     "output_type": "stream",
     "text": [
      "10\n",
      "Soumya\n"
     ]
    }
   ],
   "source": [
    "print(A)\n",
    "print(a)"
   ]
  },
  {
   "cell_type": "markdown",
   "id": "d87362c4",
   "metadata": {},
   "source": [
    "# Variable Names"
   ]
  },
  {
   "cell_type": "markdown",
   "id": "190f7f0e",
   "metadata": {},
   "source": [
    "A variable can have a short name (like x and y) or a more descriptive name (age, carname, total_volume).\n",
    "\n",
    "Rules for Python variables:\n",
    "\n",
    "*A variable name must start with a letter or the underscore character.\n",
    "\n",
    "*A variable name cannot start with a number.\n",
    "\n",
    "*A variable name can only contain alpha-numeric characters and underscores (A-z, 0-9, and _ ).\n",
    "\n",
    "*Variable names are case-sensitive (age, Age and AGE are three different variables)."
   ]
  },
  {
   "cell_type": "code",
   "execution_count": 11,
   "id": "ad93bdde",
   "metadata": {},
   "outputs": [],
   "source": [
    "#Legal variable names:\n",
    "\n",
    "myvar = \"Soumya\"\n",
    "my_var = \"Soumya\"\n",
    "_my_var = \"Soumya\"\n",
    "myVar = \"Soumya\"\n",
    "MYVAR = \"Soumya\"\n",
    "myvar2 = \"Soumya\""
   ]
  },
  {
   "cell_type": "markdown",
   "id": "85b10de5",
   "metadata": {},
   "source": [
    "# Multi Word Variable Names"
   ]
  },
  {
   "cell_type": "markdown",
   "id": "e7c85e73",
   "metadata": {},
   "source": [
    "Variable names with more than one word can be difficult to read.\n",
    "\n",
    "There are several techniques you can use to make them more readable."
   ]
  },
  {
   "cell_type": "markdown",
   "id": "53506ec3",
   "metadata": {},
   "source": [
    "1.camelCase (Each word, except the first, starts with a capital letter)"
   ]
  },
  {
   "cell_type": "code",
   "execution_count": 13,
   "id": "4337fb66",
   "metadata": {},
   "outputs": [],
   "source": [
    "myVariableName = \"Soumya\""
   ]
  },
  {
   "cell_type": "markdown",
   "id": "7ceceb28",
   "metadata": {},
   "source": [
    "2.PascalCase (Each word starts with a capital letter)"
   ]
  },
  {
   "cell_type": "code",
   "execution_count": 14,
   "id": "baf60361",
   "metadata": {},
   "outputs": [],
   "source": [
    "MyVariableName = \"Soumya\""
   ]
  },
  {
   "cell_type": "markdown",
   "id": "f89fbbb8",
   "metadata": {},
   "source": [
    "3.snake_case (Each word is separated by an underscore character)"
   ]
  },
  {
   "cell_type": "code",
   "execution_count": 15,
   "id": "fd8c6d15",
   "metadata": {},
   "outputs": [],
   "source": [
    "my_variable_name  = \"Soumya\""
   ]
  },
  {
   "cell_type": "markdown",
   "id": "7e8095f8",
   "metadata": {},
   "source": [
    "# Many Values To Many Variables"
   ]
  },
  {
   "cell_type": "markdown",
   "id": "0d83f9db",
   "metadata": {},
   "source": [
    "Python allows you to assign values to multiple variables in one line.\n",
    "\n",
    "Make sure the number of variables matches the number of values, or else you will get an error."
   ]
  },
  {
   "cell_type": "code",
   "execution_count": 1,
   "id": "12c7ff9d",
   "metadata": {},
   "outputs": [
    {
     "name": "stdout",
     "output_type": "stream",
     "text": [
      "Soumya\n",
      "Satish\n",
      "Satyajeet\n"
     ]
    }
   ],
   "source": [
    "x, y, z = \"Soumya\", \"Satish\", \"Satyajeet\"\n",
    "print(x)\n",
    "print(y)\n",
    "print(z)"
   ]
  },
  {
   "cell_type": "markdown",
   "id": "87345044",
   "metadata": {},
   "source": [
    "# One Value To Multiple Variables"
   ]
  },
  {
   "cell_type": "code",
   "execution_count": 2,
   "id": "f1f47804",
   "metadata": {},
   "outputs": [
    {
     "name": "stdout",
     "output_type": "stream",
     "text": [
      "DataGyan\n",
      "DataGyan\n",
      "DataGyan\n"
     ]
    }
   ],
   "source": [
    "x = y = z = \"DataGyan\"\n",
    "print(x)\n",
    "print(y)\n",
    "print(z)"
   ]
  },
  {
   "cell_type": "markdown",
   "id": "fe44c116",
   "metadata": {},
   "source": [
    "# Unpack A Collection"
   ]
  },
  {
   "cell_type": "markdown",
   "id": "7d286fb8",
   "metadata": {},
   "source": [
    "If you have a collection of values in a list, tuple etc.\n",
    "Python allows you extract the values into variables.\n",
    "This is called unpacking."
   ]
  },
  {
   "cell_type": "code",
   "execution_count": 3,
   "id": "0880ed2d",
   "metadata": {},
   "outputs": [
    {
     "name": "stdout",
     "output_type": "stream",
     "text": [
      "Soumya\n",
      "Satish\n",
      "Satyajeet\n"
     ]
    }
   ],
   "source": [
    "#Unpack a list:\n",
    "\n",
    "Employees = [\"Soumya\", \"Satish\", \"Satyajeet\"]\n",
    "x, y, z = Employees\n",
    "print(x)\n",
    "print(y)\n",
    "print(z)"
   ]
  },
  {
   "cell_type": "markdown",
   "id": "63bce17a",
   "metadata": {},
   "source": [
    "# Output Variables"
   ]
  },
  {
   "cell_type": "markdown",
   "id": "ad040496",
   "metadata": {},
   "source": [
    "The Python print statement is often used to output variables.\n",
    "\n",
    "To combine both text and a variable, Python uses the + character."
   ]
  },
  {
   "cell_type": "code",
   "execution_count": 4,
   "id": "25a6de28",
   "metadata": {},
   "outputs": [
    {
     "name": "stdout",
     "output_type": "stream",
     "text": [
      "COVID-19 is a virus.\n"
     ]
    }
   ],
   "source": [
    "x = \"virus.\"\n",
    "print(\"COVID-19 is a \" + x)"
   ]
  },
  {
   "cell_type": "markdown",
   "id": "ebef2f48",
   "metadata": {},
   "source": [
    "You can also use the + character to add a variable to another variable :"
   ]
  },
  {
   "cell_type": "code",
   "execution_count": 5,
   "id": "81ce9a19",
   "metadata": {},
   "outputs": [
    {
     "name": "stdout",
     "output_type": "stream",
     "text": [
      "COVID-19 is a virus.\n"
     ]
    }
   ],
   "source": [
    "x = \"COVID-19 is a \"\n",
    "y = \"virus.\"\n",
    "z =  x + y\n",
    "print(z)"
   ]
  },
  {
   "cell_type": "markdown",
   "id": "c3f491f7",
   "metadata": {},
   "source": [
    "For numbers, the + character works as a mathematical operator :"
   ]
  },
  {
   "cell_type": "code",
   "execution_count": 6,
   "id": "7a4cd5b4",
   "metadata": {},
   "outputs": [
    {
     "name": "stdout",
     "output_type": "stream",
     "text": [
      "15\n"
     ]
    }
   ],
   "source": [
    "x = 5\n",
    "y = 10\n",
    "print(x + y)"
   ]
  },
  {
   "cell_type": "markdown",
   "id": "7aa49044",
   "metadata": {},
   "source": [
    "# Data Types"
   ]
  },
  {
   "cell_type": "markdown",
   "id": "0053b866",
   "metadata": {},
   "source": [
    "In programming, data type is an important concept.\n",
    "\n",
    "Variables can store data of different types, and different types can do different things.\n",
    "\n",
    "Python has the following data types built-in by default, in these categories\n",
    "\n",
    "Text Type:-------------str\n",
    "\n",
    "Numeric Types:------int, float, complex\n",
    "\n",
    "Sequence Types:----list, tuple, range\n",
    "\n",
    "Mapping Type:-------dict\n",
    "\n",
    "Set Types:-------------set, frozenset\n",
    "\n",
    "Boolean Type:--------bool\n",
    "\n",
    "Binary Types:----------bytes, bytearray, memoryview"
   ]
  },
  {
   "cell_type": "markdown",
   "id": "b1f27ed2",
   "metadata": {},
   "source": [
    "# Gatting The Datatype"
   ]
  },
  {
   "cell_type": "markdown",
   "id": "6e3abbf4",
   "metadata": {},
   "source": [
    "You can get the data type of any object by using the type() function."
   ]
  },
  {
   "cell_type": "code",
   "execution_count": 7,
   "id": "cb6eac0d",
   "metadata": {},
   "outputs": [
    {
     "name": "stdout",
     "output_type": "stream",
     "text": [
      "<class 'int'>\n"
     ]
    }
   ],
   "source": [
    "#Print the data type of the variable x:\n",
    "\n",
    "x=5\n",
    "print(type(x))"
   ]
  },
  {
   "cell_type": "markdown",
   "id": "d7d65c11",
   "metadata": {},
   "source": [
    "# Setting The Datatype"
   ]
  },
  {
   "cell_type": "markdown",
   "id": "2d29aade",
   "metadata": {},
   "source": [
    "In Python, the data type is set when you assign a value to a variable."
   ]
  },
  {
   "cell_type": "code",
   "execution_count": 8,
   "id": "9709d684",
   "metadata": {},
   "outputs": [],
   "source": [
    "a = \"Hello World\"\n",
    "b = 20\n",
    "c = 20.5\n",
    "d = 1j\n",
    "e = [\"apple\", \"banana\", \"cherry\"]\n",
    "f = (\"apple\", \"banana\", \"cherry\")\n",
    "g = range(6)\n",
    "h = {\"name\" : \"John\", \"age\" : 36}\n",
    "i = {\"apple\", \"banana\", \"cherry\"}\n",
    "j = frozenset({\"apple\", \"banana\", \"cherry\"})\n",
    "k = True\n",
    "l = b\"Hello\"\n",
    "m = bytearray(5)\n",
    "n = memoryview(bytes(5))"
   ]
  },
  {
   "cell_type": "code",
   "execution_count": 9,
   "id": "c2f23dc9",
   "metadata": {},
   "outputs": [
    {
     "name": "stdout",
     "output_type": "stream",
     "text": [
      "<class 'str'>\n",
      "<class 'int'>\n",
      "<class 'float'>\n",
      "<class 'complex'>\n",
      "<class 'list'>\n",
      "<class 'tuple'>\n",
      "<class 'range'>\n",
      "<class 'dict'>\n",
      "<class 'set'>\n",
      "<class 'frozenset'>\n",
      "<class 'bool'>\n",
      "<class 'bytes'>\n",
      "<class 'bytearray'>\n",
      "<class 'memoryview'>\n"
     ]
    }
   ],
   "source": [
    "print(type(a))\n",
    "print(type(b))\n",
    "print(type(c))\n",
    "print(type(d))\n",
    "print(type(e))\n",
    "print(type(f))\n",
    "print(type(g))\n",
    "print(type(h))\n",
    "print(type(i))\n",
    "print(type(j))\n",
    "print(type(k))\n",
    "print(type(l))\n",
    "print(type(m))\n",
    "print(type(n))"
   ]
  },
  {
   "cell_type": "markdown",
   "id": "a4a55c73",
   "metadata": {},
   "source": [
    "# Setting The Specific Datatype"
   ]
  },
  {
   "cell_type": "markdown",
   "id": "875ff3dd",
   "metadata": {},
   "source": [
    "If you want to specify the data type, you can use the following constructor functions."
   ]
  },
  {
   "cell_type": "code",
   "execution_count": 10,
   "id": "b50be731",
   "metadata": {},
   "outputs": [],
   "source": [
    "a = str(\"Hello World\")\n",
    "b = int(20)\n",
    "c = float(20.5)\n",
    "d = complex(1j)\n",
    "e = list((\"apple\", \"banana\", \"cherry\"))\n",
    "f = tuple((\"apple\", \"banana\", \"cherry\"))\n",
    "g = range(6)\n",
    "h = dict(name=\"John\", age=36)\n",
    "i = set((\"apple\", \"banana\", \"cherry\"))\n",
    "j = frozenset((\"apple\", \"banana\", \"cherry\"))\n",
    "k = bool(5)\n",
    "l = bytes(5)\n",
    "m = bytearray(5)\n",
    "n = memoryview(bytes(5))"
   ]
  },
  {
   "cell_type": "code",
   "execution_count": 11,
   "id": "a40c66a8",
   "metadata": {},
   "outputs": [
    {
     "name": "stdout",
     "output_type": "stream",
     "text": [
      "<class 'str'>\n",
      "<class 'int'>\n",
      "<class 'float'>\n",
      "<class 'complex'>\n",
      "<class 'list'>\n",
      "<class 'tuple'>\n",
      "<class 'range'>\n",
      "<class 'dict'>\n",
      "<class 'set'>\n",
      "<class 'frozenset'>\n",
      "<class 'bool'>\n",
      "<class 'bytes'>\n",
      "<class 'bytearray'>\n",
      "<class 'memoryview'>\n"
     ]
    }
   ],
   "source": [
    "print(type(a))\n",
    "print(type(b))\n",
    "print(type(c))\n",
    "print(type(d))\n",
    "print(type(e))\n",
    "print(type(f))\n",
    "print(type(g))\n",
    "print(type(h))\n",
    "print(type(i))\n",
    "print(type(j))\n",
    "print(type(k))\n",
    "print(type(l))\n",
    "print(type(m))\n",
    "print(type(n))"
   ]
  },
  {
   "cell_type": "markdown",
   "id": "5eccc6ad",
   "metadata": {},
   "source": [
    "# Numbers"
   ]
  },
  {
   "cell_type": "markdown",
   "id": "67f66c0b",
   "metadata": {},
   "source": [
    "There are three numeric types in Python:\n",
    "\n",
    "int, float, complex\n",
    "\n",
    "Variables of numeric types are created when you assign a value to them"
   ]
  },
  {
   "cell_type": "code",
   "execution_count": 12,
   "id": "485a0580",
   "metadata": {},
   "outputs": [],
   "source": [
    "x = 1    # int\n",
    "y = 2.8  # float\n",
    "z = 1j   # complex"
   ]
  },
  {
   "cell_type": "markdown",
   "id": "c1690ac0",
   "metadata": {},
   "source": [
    "To verify the type of any object in Python, use the type() function."
   ]
  },
  {
   "cell_type": "code",
   "execution_count": 13,
   "id": "c79473f7",
   "metadata": {},
   "outputs": [
    {
     "name": "stdout",
     "output_type": "stream",
     "text": [
      "<class 'int'>\n",
      "<class 'float'>\n",
      "<class 'complex'>\n"
     ]
    }
   ],
   "source": [
    "print(type(x))\n",
    "print(type(y))\n",
    "print(type(z))"
   ]
  },
  {
   "cell_type": "markdown",
   "id": "08e8bcf1",
   "metadata": {},
   "source": [
    "# Int"
   ]
  },
  {
   "cell_type": "markdown",
   "id": "ae1a8ecc",
   "metadata": {},
   "source": [
    "Int, or integer, is a whole number, positive or negative, without decimals, of unlimited length."
   ]
  },
  {
   "cell_type": "code",
   "execution_count": 14,
   "id": "cb96be23",
   "metadata": {},
   "outputs": [
    {
     "name": "stdout",
     "output_type": "stream",
     "text": [
      "<class 'int'>\n",
      "<class 'int'>\n",
      "<class 'int'>\n"
     ]
    }
   ],
   "source": [
    "#Integers:\n",
    "\n",
    "x = 1\n",
    "y = 150101120034\n",
    "z = -3255522\n",
    "\n",
    "print(type(x))\n",
    "print(type(y))\n",
    "print(type(z))"
   ]
  },
  {
   "cell_type": "markdown",
   "id": "564662c8",
   "metadata": {},
   "source": [
    "# Float"
   ]
  },
  {
   "cell_type": "markdown",
   "id": "1b35f87c",
   "metadata": {},
   "source": [
    "Float, or \"floating point number\" is a number, positive or negative, containing one or more decimals."
   ]
  },
  {
   "cell_type": "code",
   "execution_count": 15,
   "id": "fa43243d",
   "metadata": {},
   "outputs": [
    {
     "name": "stdout",
     "output_type": "stream",
     "text": [
      "<class 'float'>\n",
      "<class 'float'>\n",
      "<class 'float'>\n"
     ]
    }
   ],
   "source": [
    "#Floats:\n",
    "\n",
    "x = 1.10\n",
    "y = 1.0\n",
    "z = -35.59\n",
    "\n",
    "print(type(x))\n",
    "print(type(y))\n",
    "print(type(z))"
   ]
  },
  {
   "cell_type": "markdown",
   "id": "32005019",
   "metadata": {},
   "source": [
    "Float can also be scientific numbers with an \"e\" to indicate the power of 10."
   ]
  },
  {
   "cell_type": "code",
   "execution_count": 16,
   "id": "1b80c5e9",
   "metadata": {},
   "outputs": [
    {
     "name": "stdout",
     "output_type": "stream",
     "text": [
      "<class 'float'>\n",
      "<class 'float'>\n",
      "<class 'float'>\n"
     ]
    }
   ],
   "source": [
    "#Floats:\n",
    "\n",
    "x = 35e3\n",
    "y = 12E4\n",
    "z = -87.7e100\n",
    "\n",
    "print(type(x))\n",
    "print(type(y))\n",
    "print(type(z))"
   ]
  },
  {
   "cell_type": "markdown",
   "id": "fa972457",
   "metadata": {},
   "source": [
    "# Complex"
   ]
  },
  {
   "cell_type": "markdown",
   "id": "8fc1e41d",
   "metadata": {},
   "source": [
    "Complex numbers are written with a \"j\" as the imaginary part."
   ]
  },
  {
   "cell_type": "code",
   "execution_count": 7,
   "id": "44053890",
   "metadata": {},
   "outputs": [
    {
     "name": "stdout",
     "output_type": "stream",
     "text": [
      "<class 'complex'>\n",
      "<class 'complex'>\n",
      "<class 'complex'>\n"
     ]
    }
   ],
   "source": [
    "#Complex:\n",
    "\n",
    "x = 3+5j\n",
    "y = 5j\n",
    "z = -5j\n",
    "\n",
    "print(type(x))\n",
    "print(type(y))\n",
    "print(type(z))"
   ]
  },
  {
   "cell_type": "markdown",
   "id": "657df654",
   "metadata": {},
   "source": [
    "# Type Conversion"
   ]
  },
  {
   "cell_type": "markdown",
   "id": "27842072",
   "metadata": {},
   "source": [
    "You can convert from one type to another with the int(), float(), and complex() methods."
   ]
  },
  {
   "cell_type": "code",
   "execution_count": 18,
   "id": "e9a7ee51",
   "metadata": {},
   "outputs": [
    {
     "name": "stdout",
     "output_type": "stream",
     "text": [
      "1.0\n",
      "2\n",
      "(1+0j)\n",
      "<class 'float'>\n",
      "<class 'int'>\n",
      "<class 'complex'>\n"
     ]
    }
   ],
   "source": [
    "#Convert from one type to another:\n",
    "\n",
    "x = 1    # int\n",
    "y = 2.8  # float\n",
    "z = 1j   # complex\n",
    "\n",
    "#convert from int to float:\n",
    "a = float(x)\n",
    "\n",
    "#convert from float to int:\n",
    "b = int(y)\n",
    "\n",
    "#convert from int to complex:\n",
    "c = complex(x)\n",
    "\n",
    "print(a)\n",
    "print(b)\n",
    "print(c)\n",
    "\n",
    "print(type(a))\n",
    "print(type(b))\n",
    "print(type(c))"
   ]
  },
  {
   "cell_type": "markdown",
   "id": "43d1b893",
   "metadata": {},
   "source": [
    "NOTE: You cannot convert complex numbers into another number type."
   ]
  },
  {
   "cell_type": "markdown",
   "id": "ec688f89",
   "metadata": {},
   "source": [
    "# Random Number"
   ]
  },
  {
   "cell_type": "markdown",
   "id": "5b6ce1d5",
   "metadata": {},
   "source": [
    "Python does not have a random() function to make a random number, but Python has a built-in module called random that can be used to make random numbers."
   ]
  },
  {
   "cell_type": "code",
   "execution_count": 14,
   "id": "059c91f0",
   "metadata": {},
   "outputs": [
    {
     "name": "stdout",
     "output_type": "stream",
     "text": [
      "115\n"
     ]
    }
   ],
   "source": [
    "#Import the random module, and display a random number between 1 and 9:\n",
    "\n",
    "import random\n",
    "\n",
    "print(random.randrange(1, 10))"
   ]
  },
  {
   "cell_type": "markdown",
   "id": "170b2e91",
   "metadata": {},
   "source": [
    "# Casting"
   ]
  },
  {
   "cell_type": "markdown",
   "id": "6536f6fa",
   "metadata": {},
   "source": [
    "Specify a variable type:\n",
    "\n",
    "There may be times when you want to specify a type on to a variable. This can be done with casting. Python is an object-orientated language, and as such it uses classes to define data types, including its primitive types.\n",
    "\n",
    "Casting in python is therefore done using constructor functions:\n",
    "\n",
    "int() - constructs an integer number from an integer literal, a float literal (by removing all decimals), or a string literal (providing the string represents a whole number)\n",
    "\n",
    "float() - constructs a float number from an integer literal, a float literal or a string literal (providing the string represents a float or an integer)\n",
    "\n",
    "str() - constructs a string from a wide variety of data types, including strings, integer literals and float literals"
   ]
  },
  {
   "cell_type": "code",
   "execution_count": 6,
   "id": "c910a901",
   "metadata": {},
   "outputs": [
    {
     "name": "stdout",
     "output_type": "stream",
     "text": [
      "1\n",
      "2\n",
      "3\n"
     ]
    }
   ],
   "source": [
    "#Integers:\n",
    "\n",
    "x = int(1)   # x will be 1\n",
    "y = int(2.8) # y will be 2\n",
    "z = int(\"3\") # z will be 3\n",
    "\n",
    "print(x)\n",
    "print(y)\n",
    "print(z)"
   ]
  },
  {
   "cell_type": "code",
   "execution_count": 16,
   "id": "ee730a44",
   "metadata": {},
   "outputs": [
    {
     "name": "stdout",
     "output_type": "stream",
     "text": [
      "1.0\n",
      "2.8\n",
      "3.0\n",
      "4.2\n"
     ]
    }
   ],
   "source": [
    "#Floats:\n",
    "\n",
    "a = float(1)     # x will be 1.0\n",
    "b = float(2.8)   # y will be 2.8\n",
    "c = float(\"3\")   # z will be 3.0\n",
    "d = float(\"4.2\") # w will be 4.2\n",
    "\n",
    "print(a)\n",
    "print(b)\n",
    "print(c)\n",
    "print(d)"
   ]
  },
  {
   "cell_type": "code",
   "execution_count": 18,
   "id": "fcdd2732",
   "metadata": {},
   "outputs": [
    {
     "name": "stdout",
     "output_type": "stream",
     "text": [
      "s1\n",
      "2\n",
      "3.0\n"
     ]
    }
   ],
   "source": [
    "#Strings:\n",
    "\n",
    "x = str(\"s1\") # x will be 's1'\n",
    "y = str(2)    # y will be '2'\n",
    "z = str(3.0)  # z will be '3.0'\n",
    "\n",
    "print(x)\n",
    "print(y)\n",
    "print(z)"
   ]
  },
  {
   "cell_type": "markdown",
   "id": "b0d4a00a",
   "metadata": {},
   "source": [
    "# Practice Set"
   ]
  },
  {
   "cell_type": "markdown",
   "id": "85f2dfe7",
   "metadata": {},
   "source": [
    "1. Write a python program to add two numbers."
   ]
  },
  {
   "cell_type": "code",
   "execution_count": 20,
   "id": "bda26666",
   "metadata": {},
   "outputs": [
    {
     "name": "stdout",
     "output_type": "stream",
     "text": [
      "Sum of a and b is 35\n"
     ]
    }
   ],
   "source": [
    "a = 24\n",
    "b = 11\n",
    "\n",
    "print(\"Sum of a and b is\",a+b)"
   ]
  },
  {
   "cell_type": "markdown",
   "id": "0e0ccfe9",
   "metadata": {},
   "source": [
    "2. Write a python program to find reminder when a number is divided by 2."
   ]
  },
  {
   "cell_type": "code",
   "execution_count": 6,
   "id": "75d2cd1a",
   "metadata": {},
   "outputs": [
    {
     "name": "stdout",
     "output_type": "stream",
     "text": [
      "The reminder when a is divided by b is 6\n"
     ]
    }
   ],
   "source": [
    "a = 456\n",
    "b = 15\n",
    "\n",
    "print(\"The reminder when a is divided by b is\",a%b)"
   ]
  },
  {
   "cell_type": "markdown",
   "id": "e13a5175",
   "metadata": {},
   "source": [
    "3. Check the type of the variable assigned using input()."
   ]
  },
  {
   "cell_type": "code",
   "execution_count": null,
   "id": "b6783ab3",
   "metadata": {},
   "outputs": [],
   "source": [
    "#While we use input function in a program it store the input value as a string.\n",
    "\n",
    "a = input(\"Enter a number:\")\n",
    "type(a)"
   ]
  },
  {
   "cell_type": "markdown",
   "id": "54dde9cb",
   "metadata": {},
   "source": [
    "4. Use a comparision operator to find out whether a given variable 'a' is greater then 'b' or not."
   ]
  },
  {
   "cell_type": "code",
   "execution_count": 10,
   "id": "4fdc3ca9",
   "metadata": {},
   "outputs": [
    {
     "name": "stdout",
     "output_type": "stream",
     "text": [
      "False\n"
     ]
    }
   ],
   "source": [
    "a = 6\n",
    "b = 8\n",
    "print(a>b)"
   ]
  },
  {
   "cell_type": "markdown",
   "id": "0c2b8478",
   "metadata": {},
   "source": [
    "5. Write a python program to find average of two numbers entered by the user."
   ]
  },
  {
   "cell_type": "code",
   "execution_count": null,
   "id": "2670e570",
   "metadata": {},
   "outputs": [],
   "source": [
    "a = input(\"Enter 1st number:\")\n",
    "b = input(\"Enter 2nd number:\")\n",
    "\n",
    "a = int(a)\n",
    "b = int(b)\n",
    "avg = a+b/2\n",
    "\n",
    "print(\"The average of 1st and 2nd number is:\",avg)"
   ]
  },
  {
   "cell_type": "markdown",
   "id": "bd3372be",
   "metadata": {},
   "source": [
    "6. Write a python program to calculate square of a number entered by the user."
   ]
  },
  {
   "cell_type": "code",
   "execution_count": 14,
   "id": "5cceae64",
   "metadata": {},
   "outputs": [
    {
     "name": "stdout",
     "output_type": "stream",
     "text": [
      "Enter a number:5\n",
      "Squre of 'a' is: 25\n"
     ]
    }
   ],
   "source": [
    "a = input(\"Enter a number:\")\n",
    "a = int(a)\n",
    "sq = a*a\n",
    "\n",
    "print(\"Squre of 'a' is:\",sq)"
   ]
  },
  {
   "cell_type": "code",
   "execution_count": null,
   "id": "8b92fc98",
   "metadata": {},
   "outputs": [],
   "source": []
  }
 ],
 "metadata": {
  "kernelspec": {
   "display_name": "Python 3",
   "language": "python",
   "name": "python3"
  },
  "language_info": {
   "codemirror_mode": {
    "name": "ipython",
    "version": 3
   },
   "file_extension": ".py",
   "mimetype": "text/x-python",
   "name": "python",
   "nbconvert_exporter": "python",
   "pygments_lexer": "ipython3",
   "version": "3.8.8"
  }
 },
 "nbformat": 4,
 "nbformat_minor": 5
}
