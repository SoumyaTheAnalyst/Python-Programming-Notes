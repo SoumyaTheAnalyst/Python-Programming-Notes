{
 "cells": [
  {
   "cell_type": "markdown",
   "id": "b55b7f92",
   "metadata": {},
   "source": [
    "# What is programming?"
   ]
  },
  {
   "cell_type": "markdown",
   "id": "ecad24ce",
   "metadata": {},
   "source": [
    "Programming is a way to instract the computer to perform various tasks."
   ]
  },
  {
   "cell_type": "markdown",
   "id": "942bf53d",
   "metadata": {},
   "source": [
    "# What is Python Programming Language?"
   ]
  },
  {
   "cell_type": "markdown",
   "id": "a68762d3",
   "metadata": {},
   "source": [
    "Python is a simple and easy to understand language which feels like reading simple english.This pseudo code nature of python\n",
    "makes it easy to learn and understandable by biginners."
   ]
  },
  {
   "cell_type": "markdown",
   "id": "2339f672",
   "metadata": {},
   "source": [
    "# Features of Python Programming Language:"
   ]
  },
  {
   "cell_type": "markdown",
   "id": "927da8f9",
   "metadata": {},
   "source": [
    "1. Easy to use understand = Less devlopment time.\n",
    "\n",
    "2. Free and open source.\n",
    "\n",
    "3. High level language.\n",
    "\n",
    "4. Portable(Works on windows/linux/mac)\n",
    "\n",
    "5. Fun to work with."
   ]
  },
  {
   "cell_type": "markdown",
   "id": "2fbc29c5",
   "metadata": {},
   "source": [
    "# 1st Python Program"
   ]
  },
  {
   "cell_type": "markdown",
   "id": "222fa7d3",
   "metadata": {},
   "source": [
    "Python is a case-sensitive programming language.For example, if a variable is named 'HelloWorld',\n",
    "then an error will occur if the variable is called 'helloworld'."
   ]
  },
  {
   "cell_type": "markdown",
   "id": "2007ab4f",
   "metadata": {},
   "source": [
    "Lets write our very first python program using \" print \" function."
   ]
  },
  {
   "cell_type": "code",
   "execution_count": 7,
   "id": "1242d04e",
   "metadata": {},
   "outputs": [
    {
     "name": "stdout",
     "output_type": "stream",
     "text": [
      "Hello World!\n"
     ]
    }
   ],
   "source": [
    "print(\"Hello World!\")"
   ]
  },
  {
   "cell_type": "code",
   "execution_count": 9,
   "id": "ae24e90e",
   "metadata": {},
   "outputs": [],
   "source": [
    "x=24"
   ]
  },
  {
   "cell_type": "code",
   "execution_count": 10,
   "id": "a6ab3cd6",
   "metadata": {},
   "outputs": [
    {
     "data": {
      "text/plain": [
       "24"
      ]
     },
     "execution_count": 10,
     "metadata": {},
     "output_type": "execute_result"
    }
   ],
   "source": [
    "x"
   ]
  },
  {
   "cell_type": "code",
   "execution_count": 11,
   "id": "7554123c",
   "metadata": {},
   "outputs": [
    {
     "name": "stdout",
     "output_type": "stream",
     "text": [
      "24\n"
     ]
    }
   ],
   "source": [
    "print(x)"
   ]
  },
  {
   "cell_type": "code",
   "execution_count": 12,
   "id": "01b2ad65",
   "metadata": {},
   "outputs": [],
   "source": [
    "x=\"Soumya\""
   ]
  },
  {
   "cell_type": "code",
   "execution_count": 13,
   "id": "fdf6f2a6",
   "metadata": {},
   "outputs": [
    {
     "data": {
      "text/plain": [
       "'Soumya'"
      ]
     },
     "execution_count": 13,
     "metadata": {},
     "output_type": "execute_result"
    }
   ],
   "source": [
    "x"
   ]
  },
  {
   "cell_type": "code",
   "execution_count": null,
   "id": "fec386bd",
   "metadata": {},
   "outputs": [],
   "source": []
  }
 ],
 "metadata": {
  "kernelspec": {
   "display_name": "Python 3",
   "language": "python",
   "name": "python3"
  },
  "language_info": {
   "codemirror_mode": {
    "name": "ipython",
    "version": 3
   },
   "file_extension": ".py",
   "mimetype": "text/x-python",
   "name": "python",
   "nbconvert_exporter": "python",
   "pygments_lexer": "ipython3",
   "version": "3.8.8"
  }
 },
 "nbformat": 4,
 "nbformat_minor": 5
}
